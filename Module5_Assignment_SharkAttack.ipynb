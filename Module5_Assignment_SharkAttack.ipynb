{
  "nbformat": 4,
  "nbformat_minor": 0,
  "metadata": {
    "colab": {
      "provenance": [],
      "authorship_tag": "ABX9TyMcKxYUF+otuYiwf5yH+GTt",
      "include_colab_link": true
    },
    "kernelspec": {
      "name": "python3",
      "display_name": "Python 3"
    },
    "language_info": {
      "name": "python"
    }
  },
  "cells": [
    {
      "cell_type": "markdown",
      "metadata": {
        "id": "view-in-github",
        "colab_type": "text"
      },
      "source": [
        "<a href=\"https://colab.research.google.com/github/MonikaGost/Winc/blob/master/Module5_Assignment_SharkAttack.ipynb\" target=\"_parent\"><img src=\"https://colab.research.google.com/assets/colab-badge.svg\" alt=\"Open In Colab\"/></a>"
      ]
    },
    {
      "cell_type": "code",
      "source": [
        "from pandas.io.formats.info import DataFrameInfo\n",
        "import pandas as pd\n",
        "import numpy as np\n",
        "import matplotlib.pyplot as plt\n",
        "\n",
        "# I could not read this data file in, so searched on Stackoverflow and found this:\n",
        "#(https://stackoverflow.com/questions/62684159/unicodedecodeerror-when-reading-csv-file-in-pandas-with-python-utf-8-codec-ca)\n",
        "# I tried \"encoding: 'cp1252'\".Seems it works.\n",
        "\n",
        "df = pd.read_csv(\"https://raw.githubusercontent.com/MonikaGost/Winc/master/attacks.csv\", encoding ='cp1252')"
      ],
      "metadata": {
        "id": "UprY2kdirFnk"
      },
      "execution_count": 1,
      "outputs": []
    },
    {
      "cell_type": "markdown",
      "source": [
        "Inspecting the data set"
      ],
      "metadata": {
        "id": "LJI_ci4NQE2a"
      }
    },
    {
      "cell_type": "code",
      "source": [
        "df\n",
        "#df.shape\n",
        "#df.head()\n",
        "#df.tail()\n",
        "#df.sample(10)\n",
        "\n",
        "# I see there are a lot of NaN's and a lot of columns. So I want to get rid off some of them.\n",
        "# I start with columns"
      ],
      "metadata": {
        "id": "M8xvjdjSzN2d"
      },
      "execution_count": null,
      "outputs": []
    },
    {
      "cell_type": "markdown",
      "source": [
        "Cleaning up the data set"
      ],
      "metadata": {
        "id": "SeFycTUMBwIJ"
      }
    },
    {
      "cell_type": "code",
      "source": [
        "# I check first which columns are relevant to answer below questions :\n",
        "# 1 What are the most dangerous types of sharks to humans?\n",
        "# 2 Are children more likely to be attacked by sharks?\n",
        "# 3 Are shark attacks where sharks were provoked more or less dangerous?\n",
        "# 4 Are certain activities more likely to result in a shark attack?\n",
        "df.head(5)\n",
        "list(df)"
      ],
      "metadata": {
        "id": "sG9KhDDn2od7"
      },
      "execution_count": null,
      "outputs": []
    },
    {
      "cell_type": "markdown",
      "source": [
        "* dropping columns"
      ],
      "metadata": {
        "id": "XF-6262dQs0F"
      }
    },
    {
      "cell_type": "code",
      "source": [
        "# I get rid off the biggest chunk of irrelevant columns using loc:\n",
        "df1 = df.loc[:,\"Case Number\":\"Species \"]\n",
        "\n",
        "#df1 # >>> I see there are still some columns i don't need so i remove these as well:\n",
        "list (df1)\n",
        "df1.drop(columns=[\"Case Number\",\"Date\",\"Year\",\"Country\", \"Area\",\"Name\",\"Sex \",\"Location\", \"Time\"],inplace=True)\n",
        "\n",
        "#display(df2) #>>> I don't like the spaces in columns' names so I correct that:\n",
        "#list (df2)\n",
        "df1.rename(columns={\"Fatal (Y/N)\":\"Fatal\",\"Species \":\"Species\"}, inplace=True)\n",
        "df1\n",
        "# I have seen some rows with missing data in all columns, will remove these."
      ],
      "metadata": {
        "id": "3ibXMZ8J4WBZ",
        "colab": {
          "base_uri": "https://localhost:8080/",
          "height": 423
        },
        "outputId": "1661d923-e846-41ef-a5be-7f31fa46c083"
      },
      "execution_count": 2,
      "outputs": [
        {
          "output_type": "execute_result",
          "data": {
            "text/plain": [
              "             Type     Activity  Age  \\\n",
              "0         Boating     Paddling   57   \n",
              "1      Unprovoked     Standing   11   \n",
              "2         Invalid      Surfing   48   \n",
              "3      Unprovoked      Surfing  NaN   \n",
              "4        Provoked  Free diving  NaN   \n",
              "...           ...          ...  ...   \n",
              "25718         NaN          NaN  NaN   \n",
              "25719         NaN          NaN  NaN   \n",
              "25720         NaN          NaN  NaN   \n",
              "25721         NaN          NaN  NaN   \n",
              "25722         NaN          NaN  NaN   \n",
              "\n",
              "                                                  Injury Fatal  \\\n",
              "0      No injury to occupant, outrigger canoe and pad...     N   \n",
              "1                             Minor injury to left thigh     N   \n",
              "2           Injury to left lower leg from surfboard skeg     N   \n",
              "3                              Minor injury to lower leg     N   \n",
              "4      Lacerations to leg & hand shark PROVOKED INCIDENT     N   \n",
              "...                                                  ...   ...   \n",
              "25718                                                NaN   NaN   \n",
              "25719                                                NaN   NaN   \n",
              "25720                                                NaN   NaN   \n",
              "25721                                                NaN   NaN   \n",
              "25722                                                NaN   NaN   \n",
              "\n",
              "               Species  \n",
              "0          White shark  \n",
              "1                  NaN  \n",
              "2                  NaN  \n",
              "3            2 m shark  \n",
              "4      Tiger shark, 3m  \n",
              "...                ...  \n",
              "25718              NaN  \n",
              "25719              NaN  \n",
              "25720              NaN  \n",
              "25721              NaN  \n",
              "25722              NaN  \n",
              "\n",
              "[25723 rows x 6 columns]"
            ],
            "text/html": [
              "\n",
              "  <div id=\"df-52f9c7b6-6541-4f02-b40f-dc1c43db7d0c\" class=\"colab-df-container\">\n",
              "    <div>\n",
              "<style scoped>\n",
              "    .dataframe tbody tr th:only-of-type {\n",
              "        vertical-align: middle;\n",
              "    }\n",
              "\n",
              "    .dataframe tbody tr th {\n",
              "        vertical-align: top;\n",
              "    }\n",
              "\n",
              "    .dataframe thead th {\n",
              "        text-align: right;\n",
              "    }\n",
              "</style>\n",
              "<table border=\"1\" class=\"dataframe\">\n",
              "  <thead>\n",
              "    <tr style=\"text-align: right;\">\n",
              "      <th></th>\n",
              "      <th>Type</th>\n",
              "      <th>Activity</th>\n",
              "      <th>Age</th>\n",
              "      <th>Injury</th>\n",
              "      <th>Fatal</th>\n",
              "      <th>Species</th>\n",
              "    </tr>\n",
              "  </thead>\n",
              "  <tbody>\n",
              "    <tr>\n",
              "      <th>0</th>\n",
              "      <td>Boating</td>\n",
              "      <td>Paddling</td>\n",
              "      <td>57</td>\n",
              "      <td>No injury to occupant, outrigger canoe and pad...</td>\n",
              "      <td>N</td>\n",
              "      <td>White shark</td>\n",
              "    </tr>\n",
              "    <tr>\n",
              "      <th>1</th>\n",
              "      <td>Unprovoked</td>\n",
              "      <td>Standing</td>\n",
              "      <td>11</td>\n",
              "      <td>Minor injury to left thigh</td>\n",
              "      <td>N</td>\n",
              "      <td>NaN</td>\n",
              "    </tr>\n",
              "    <tr>\n",
              "      <th>2</th>\n",
              "      <td>Invalid</td>\n",
              "      <td>Surfing</td>\n",
              "      <td>48</td>\n",
              "      <td>Injury to left lower leg from surfboard skeg</td>\n",
              "      <td>N</td>\n",
              "      <td>NaN</td>\n",
              "    </tr>\n",
              "    <tr>\n",
              "      <th>3</th>\n",
              "      <td>Unprovoked</td>\n",
              "      <td>Surfing</td>\n",
              "      <td>NaN</td>\n",
              "      <td>Minor injury to lower leg</td>\n",
              "      <td>N</td>\n",
              "      <td>2 m shark</td>\n",
              "    </tr>\n",
              "    <tr>\n",
              "      <th>4</th>\n",
              "      <td>Provoked</td>\n",
              "      <td>Free diving</td>\n",
              "      <td>NaN</td>\n",
              "      <td>Lacerations to leg &amp; hand shark PROVOKED INCIDENT</td>\n",
              "      <td>N</td>\n",
              "      <td>Tiger shark, 3m</td>\n",
              "    </tr>\n",
              "    <tr>\n",
              "      <th>...</th>\n",
              "      <td>...</td>\n",
              "      <td>...</td>\n",
              "      <td>...</td>\n",
              "      <td>...</td>\n",
              "      <td>...</td>\n",
              "      <td>...</td>\n",
              "    </tr>\n",
              "    <tr>\n",
              "      <th>25718</th>\n",
              "      <td>NaN</td>\n",
              "      <td>NaN</td>\n",
              "      <td>NaN</td>\n",
              "      <td>NaN</td>\n",
              "      <td>NaN</td>\n",
              "      <td>NaN</td>\n",
              "    </tr>\n",
              "    <tr>\n",
              "      <th>25719</th>\n",
              "      <td>NaN</td>\n",
              "      <td>NaN</td>\n",
              "      <td>NaN</td>\n",
              "      <td>NaN</td>\n",
              "      <td>NaN</td>\n",
              "      <td>NaN</td>\n",
              "    </tr>\n",
              "    <tr>\n",
              "      <th>25720</th>\n",
              "      <td>NaN</td>\n",
              "      <td>NaN</td>\n",
              "      <td>NaN</td>\n",
              "      <td>NaN</td>\n",
              "      <td>NaN</td>\n",
              "      <td>NaN</td>\n",
              "    </tr>\n",
              "    <tr>\n",
              "      <th>25721</th>\n",
              "      <td>NaN</td>\n",
              "      <td>NaN</td>\n",
              "      <td>NaN</td>\n",
              "      <td>NaN</td>\n",
              "      <td>NaN</td>\n",
              "      <td>NaN</td>\n",
              "    </tr>\n",
              "    <tr>\n",
              "      <th>25722</th>\n",
              "      <td>NaN</td>\n",
              "      <td>NaN</td>\n",
              "      <td>NaN</td>\n",
              "      <td>NaN</td>\n",
              "      <td>NaN</td>\n",
              "      <td>NaN</td>\n",
              "    </tr>\n",
              "  </tbody>\n",
              "</table>\n",
              "<p>25723 rows × 6 columns</p>\n",
              "</div>\n",
              "    <div class=\"colab-df-buttons\">\n",
              "\n",
              "  <div class=\"colab-df-container\">\n",
              "    <button class=\"colab-df-convert\" onclick=\"convertToInteractive('df-52f9c7b6-6541-4f02-b40f-dc1c43db7d0c')\"\n",
              "            title=\"Convert this dataframe to an interactive table.\"\n",
              "            style=\"display:none;\">\n",
              "\n",
              "  <svg xmlns=\"http://www.w3.org/2000/svg\" height=\"24px\" viewBox=\"0 -960 960 960\">\n",
              "    <path d=\"M120-120v-720h720v720H120Zm60-500h600v-160H180v160Zm220 220h160v-160H400v160Zm0 220h160v-160H400v160ZM180-400h160v-160H180v160Zm440 0h160v-160H620v160ZM180-180h160v-160H180v160Zm440 0h160v-160H620v160Z\"/>\n",
              "  </svg>\n",
              "    </button>\n",
              "\n",
              "  <style>\n",
              "    .colab-df-container {\n",
              "      display:flex;\n",
              "      gap: 12px;\n",
              "    }\n",
              "\n",
              "    .colab-df-convert {\n",
              "      background-color: #E8F0FE;\n",
              "      border: none;\n",
              "      border-radius: 50%;\n",
              "      cursor: pointer;\n",
              "      display: none;\n",
              "      fill: #1967D2;\n",
              "      height: 32px;\n",
              "      padding: 0 0 0 0;\n",
              "      width: 32px;\n",
              "    }\n",
              "\n",
              "    .colab-df-convert:hover {\n",
              "      background-color: #E2EBFA;\n",
              "      box-shadow: 0px 1px 2px rgba(60, 64, 67, 0.3), 0px 1px 3px 1px rgba(60, 64, 67, 0.15);\n",
              "      fill: #174EA6;\n",
              "    }\n",
              "\n",
              "    .colab-df-buttons div {\n",
              "      margin-bottom: 4px;\n",
              "    }\n",
              "\n",
              "    [theme=dark] .colab-df-convert {\n",
              "      background-color: #3B4455;\n",
              "      fill: #D2E3FC;\n",
              "    }\n",
              "\n",
              "    [theme=dark] .colab-df-convert:hover {\n",
              "      background-color: #434B5C;\n",
              "      box-shadow: 0px 1px 3px 1px rgba(0, 0, 0, 0.15);\n",
              "      filter: drop-shadow(0px 1px 2px rgba(0, 0, 0, 0.3));\n",
              "      fill: #FFFFFF;\n",
              "    }\n",
              "  </style>\n",
              "\n",
              "    <script>\n",
              "      const buttonEl =\n",
              "        document.querySelector('#df-52f9c7b6-6541-4f02-b40f-dc1c43db7d0c button.colab-df-convert');\n",
              "      buttonEl.style.display =\n",
              "        google.colab.kernel.accessAllowed ? 'block' : 'none';\n",
              "\n",
              "      async function convertToInteractive(key) {\n",
              "        const element = document.querySelector('#df-52f9c7b6-6541-4f02-b40f-dc1c43db7d0c');\n",
              "        const dataTable =\n",
              "          await google.colab.kernel.invokeFunction('convertToInteractive',\n",
              "                                                    [key], {});\n",
              "        if (!dataTable) return;\n",
              "\n",
              "        const docLinkHtml = 'Like what you see? Visit the ' +\n",
              "          '<a target=\"_blank\" href=https://colab.research.google.com/notebooks/data_table.ipynb>data table notebook</a>'\n",
              "          + ' to learn more about interactive tables.';\n",
              "        element.innerHTML = '';\n",
              "        dataTable['output_type'] = 'display_data';\n",
              "        await google.colab.output.renderOutput(dataTable, element);\n",
              "        const docLink = document.createElement('div');\n",
              "        docLink.innerHTML = docLinkHtml;\n",
              "        element.appendChild(docLink);\n",
              "      }\n",
              "    </script>\n",
              "  </div>\n",
              "\n",
              "\n",
              "<div id=\"df-2a49d816-9df6-428b-906f-56c6f63f806d\">\n",
              "  <button class=\"colab-df-quickchart\" onclick=\"quickchart('df-2a49d816-9df6-428b-906f-56c6f63f806d')\"\n",
              "            title=\"Suggest charts.\"\n",
              "            style=\"display:none;\">\n",
              "\n",
              "<svg xmlns=\"http://www.w3.org/2000/svg\" height=\"24px\"viewBox=\"0 0 24 24\"\n",
              "     width=\"24px\">\n",
              "    <g>\n",
              "        <path d=\"M19 3H5c-1.1 0-2 .9-2 2v14c0 1.1.9 2 2 2h14c1.1 0 2-.9 2-2V5c0-1.1-.9-2-2-2zM9 17H7v-7h2v7zm4 0h-2V7h2v10zm4 0h-2v-4h2v4z\"/>\n",
              "    </g>\n",
              "</svg>\n",
              "  </button>\n",
              "\n",
              "<style>\n",
              "  .colab-df-quickchart {\n",
              "    background-color: #E8F0FE;\n",
              "    border: none;\n",
              "    border-radius: 50%;\n",
              "    cursor: pointer;\n",
              "    display: none;\n",
              "    fill: #1967D2;\n",
              "    height: 32px;\n",
              "    padding: 0 0 0 0;\n",
              "    width: 32px;\n",
              "  }\n",
              "\n",
              "  .colab-df-quickchart:hover {\n",
              "    background-color: #E2EBFA;\n",
              "    box-shadow: 0px 1px 2px rgba(60, 64, 67, 0.3), 0px 1px 3px 1px rgba(60, 64, 67, 0.15);\n",
              "    fill: #174EA6;\n",
              "  }\n",
              "\n",
              "  [theme=dark] .colab-df-quickchart {\n",
              "    background-color: #3B4455;\n",
              "    fill: #D2E3FC;\n",
              "  }\n",
              "\n",
              "  [theme=dark] .colab-df-quickchart:hover {\n",
              "    background-color: #434B5C;\n",
              "    box-shadow: 0px 1px 3px 1px rgba(0, 0, 0, 0.15);\n",
              "    filter: drop-shadow(0px 1px 2px rgba(0, 0, 0, 0.3));\n",
              "    fill: #FFFFFF;\n",
              "  }\n",
              "</style>\n",
              "\n",
              "  <script>\n",
              "    async function quickchart(key) {\n",
              "      const charts = await google.colab.kernel.invokeFunction(\n",
              "          'suggestCharts', [key], {});\n",
              "    }\n",
              "    (() => {\n",
              "      let quickchartButtonEl =\n",
              "        document.querySelector('#df-2a49d816-9df6-428b-906f-56c6f63f806d button');\n",
              "      quickchartButtonEl.style.display =\n",
              "        google.colab.kernel.accessAllowed ? 'block' : 'none';\n",
              "    })();\n",
              "  </script>\n",
              "</div>\n",
              "    </div>\n",
              "  </div>\n"
            ]
          },
          "metadata": {},
          "execution_count": 2
        }
      ]
    },
    {
      "cell_type": "markdown",
      "source": [
        "* dropping rows"
      ],
      "metadata": {
        "id": "q3jEwma3QzqC"
      }
    },
    {
      "cell_type": "code",
      "source": [
        "df1.shape # We have 25723 rows and 6 columns\n",
        "df2 = df1.dropna(how=\"all\")\n",
        "df2.shape # we have 6302 rows left\n"
      ],
      "metadata": {
        "id": "jMeZJ2Nn7-LU",
        "colab": {
          "base_uri": "https://localhost:8080/"
        },
        "outputId": "3bceb144-c936-4627-86bd-daeb2c83da09"
      },
      "execution_count": 3,
      "outputs": [
        {
          "output_type": "execute_result",
          "data": {
            "text/plain": [
              "(6302, 6)"
            ]
          },
          "metadata": {},
          "execution_count": 3
        }
      ]
    },
    {
      "cell_type": "markdown",
      "source": [
        "* Looking at default missing values"
      ],
      "metadata": {
        "id": "ym2Y8ZQtME53"
      }
    },
    {
      "cell_type": "code",
      "source": [
        "df2.isnull().sum()"
      ],
      "metadata": {
        "id": "rOFyT9h7SdKe",
        "colab": {
          "base_uri": "https://localhost:8080/"
        },
        "outputId": "ee00b48b-064c-407a-d8f1-88ce02b66095"
      },
      "execution_count": 21,
      "outputs": [
        {
          "output_type": "execute_result",
          "data": {
            "text/plain": [
              "Type           0\n",
              "Activity     544\n",
              "Age         2831\n",
              "Injury        28\n",
              "Fatal        539\n",
              "Species     2838\n",
              "dtype: int64"
            ]
          },
          "metadata": {},
          "execution_count": 21
        }
      ]
    },
    {
      "cell_type": "code",
      "source": [
        "#I make an overview of that.\n",
        "fig, ax = plt.subplots()\n",
        "\n",
        "x = df2.columns\n",
        "percent_missing = df2.isnull().mean() * 100\n",
        "\n",
        "ax.bar(x, percent_missing)\n",
        "\n",
        "plt.xlabel(\"Column\")\n",
        "plt.ylabel(\"Percentage of missing values\")\n",
        "plt.title(\"Percentage of missing values per column\")\n",
        "\n",
        "ax.grid(True, axis=\"y\")\n",
        "fig.set_size_inches(10,5) # Make chart a little bigger\n",
        "\n",
        "plt.show()"
      ],
      "metadata": {
        "id": "9ZLyi8Q0Kxsa",
        "colab": {
          "base_uri": "https://localhost:8080/",
          "height": 487
        },
        "outputId": "3dee12af-0a1a-4468-81cc-185172447bfe"
      },
      "execution_count": null,
      "outputs": [
        {
          "output_type": "display_data",
          "data": {
            "text/plain": [
              "<Figure size 1000x500 with 1 Axes>"
            ],
            "image/png": "[encoded data removed]"
          },
          "metadata": {}
        }
      ]
    },
    {
      "cell_type": "markdown",
      "source": [
        "* Checking for non-default missing values"
      ],
      "metadata": {
        "id": "uwGpsdfVyXdN"
      }
    },
    {
      "cell_type": "code",
      "source": [
        "# Looking at unique values\n",
        "def unique(db):\n",
        "  unv = {}\n",
        "  for col in db:\n",
        "    uv = len(list(db.loc[:,col].unique()))\n",
        "    unv[col] =  uv\n",
        "  print (unv)\n",
        "\n",
        "unique (df2)\n",
        "# A lot of unique values in most of the columns. I am courious about the columns with least unique values: \"Type\" and \"Fatal_(Y/N)\".\n",
        "# Will work on these first as that seems the easiest to handle."
      ],
      "metadata": {
        "id": "klOliGwvB-Z8",
        "colab": {
          "base_uri": "https://localhost:8080/"
        },
        "outputId": "669cd66c-4a26-4ff6-e319-bc036208f399"
      },
      "execution_count": 4,
      "outputs": [
        {
          "output_type": "stream",
          "name": "stdout",
          "text": [
            "{'Type': 9, 'Activity': 1533, 'Age': 158, 'Injury': 3738, 'Fatal': 9, 'Species': 1550}\n"
          ]
        }
      ]
    },
    {
      "cell_type": "markdown",
      "source": [
        "  \n",
        "  * - Analyzing values per column\n",
        "\n",
        "\n"
      ],
      "metadata": {
        "id": "rBxA-1MC6psW"
      }
    },
    {
      "cell_type": "markdown",
      "source": [
        "Codes"
      ],
      "metadata": {
        "id": "gC_d1Pgv6xo2"
      }
    },
    {
      "cell_type": "code",
      "source": [
        "# I will need these more often:\n",
        "\n",
        "def unique_values(df,column_name):\n",
        "  unique_values = df[column_name].unique()\n",
        "  print(f'* Number of unique values in column \\'{column_name}\\': {len(unique_values)}\\n')\n",
        "  if len(unique_values)<150:\n",
        "      print(f'* List of unique values in column \\'{column_name}\\':')\n",
        "      try:\n",
        "        sorted = np.sort(unique_values)\n",
        "        print(\" - Values are sorted\")\n",
        "        display(list(sorted))\n",
        "      except:\n",
        "        print(\" ! Could not sort values !\")\n",
        "        display(list(unique_values))\n",
        "  print('\\n')\n",
        "\n",
        "def cast_to_type(df,column_name, maybe_type):\n",
        "  print(\"* Trying to cast to assumed type:\")\n",
        "  try:\n",
        "    df[column_name].astype(maybe_type,errors=\"ignore\")\n",
        "    print(f\"Casting to {maybe_type} was successful\\n\")\n",
        "  except ValueError as error:\n",
        "    print(f\"Could not cast to {maybe_type}: {error}\\n\")\n",
        "\n",
        "def look_at_edges(df, column_name):\n",
        "  print(\"* Sorting and looking at the edges\")\n",
        "  def show_head_and_tail(values):\n",
        "      num_items_to_slice = 20\n",
        "      display(list(values)[:num_items_to_slice])\n",
        "      display(list(values)[-num_items_to_slice:])\n",
        "  column = df[column_name]\n",
        "  unique_values = column.unique()\n",
        "  try:\n",
        "      sorted = np.sort(unique_values)\n",
        "      print(\" - Unique values sorted, head and tail:\")\n",
        "      show_head_and_tail(sorted)\n",
        "  except TypeError as error:\n",
        "      print(f\" - Could not sort values: {error}\")\n",
        "      print(\" - Trying filtering NULL values and then sorting\")\n",
        "      non_null_uniques = df.loc[~df[column_name].isnull(), column_name].unique()\n",
        "      sorted = np.sort(non_null_uniques)\n",
        "      show_head_and_tail(sorted)\n",
        "  print(\"\\n\")\n",
        "\n",
        "def defnullv(df, column_name):\n",
        "    nulls = df.loc[df[column_name].isnull()]\n",
        "    print(f\"* Number of default null values in column \\\"{column_name}\\\": {len(nulls)}\\n\")\n",
        "    if len(nulls)<=15 and len(nulls)!=0:\n",
        "      print(f\"* View on the table filtered by Null values in \\\"{column_name}\\\":\")\n",
        "      print(nulls)\n",
        "    elif len(nulls)==0:\n",
        "      print(\"There are no more missing values found in this column.\")\n",
        "\n",
        "def replace_value(df, column_name, missing_old, missing_new):\n",
        "    df[column_name] = df[column_name].replace({missing_old: missing_new})\n",
        "\n",
        "def column_analysis(df,column_name,maybe_type):\n",
        "    column = df[column_name]\n",
        "    print(f\"*** Inspecting column \\'{column_name}\\' *** \\n\")\n",
        "    print(f\"Column \\\"{column_name}\\\" has datatype: {df.dtypes[column_name]}\\n\")\n",
        "    unique_values(df,column_name)\n",
        "    look_at_edges(df,column_name)\n",
        "    cast_to_type(df,column_name,maybe_type)\n",
        "    print(\"* Looking at frequency: \")\n",
        "    display(df[column_name].value_counts(dropna=False))\n",
        "    print(\"\\n\")\n",
        "    defnullv(df,column_name)\n"
      ],
      "metadata": {
        "id": "cA7dYcyLWNmf"
      },
      "execution_count": 5,
      "outputs": []
    },
    {
      "cell_type": "markdown",
      "source": [
        "Analyse and cleaning up columns:"
      ],
      "metadata": {
        "id": "ZL6A8v7u62ux"
      }
    },
    {
      "cell_type": "markdown",
      "source": [
        "* Column \"Type\" (1/6)"
      ],
      "metadata": {
        "id": "92pdyfCEYaNM"
      }
    },
    {
      "cell_type": "code",
      "source": [
        "column_analysis(df2,\"Type\",'string')\n"
      ],
      "metadata": {
        "id": "w8-WLqN3V54T"
      },
      "execution_count": null,
      "outputs": []
    },
    {
      "cell_type": "code",
      "source": [
        "# Column \"Type\" cleaning:\n",
        "# Most of NaN values look like not provoked but we are not sure, so just change it to Invalid, 4 cases do not make that much difference here.\n",
        "df2[\"Type\"]=df2.loc[:,\"Type\"].fillna('Invalid')\n",
        "# Trying to categorize some of the values for the needs of analysis:\n",
        "replace_value(df2,\"Type\",\"Sea Disaster\",\"Unprovoked\") # looks like \"unprovoked\" to me\n",
        "replace_value(df2,\"Type\",\"Boat\",\"Boating\")\n",
        "replace_value(df2,\"Type\",\"Boatomg\",\"Boating\")\n",
        "\n",
        "#Further I am courious about value \"Invalid\". I take a look:\n",
        "#df2[df2[\"Type\"]==\"Invalid\"].sample(10)\n",
        "#It seems \"Ivalid\" says that record are invalid, there are many values missing\n",
        "#or shark involvement is questionable or not confirmed. I decide to make new database with removed Invalid record as they seem not to have any value to analysis we make.\n",
        "\n",
        "df3 = df2[df2.loc[:,\"Type\"] != \"Invalid\"].copy()\n",
        "\n",
        "df3.shape # there are 5751 rows left"
      ],
      "metadata": {
        "id": "iDat-NV5S0hn"
      },
      "execution_count": null,
      "outputs": []
    },
    {
      "cell_type": "markdown",
      "source": [
        "* Column \"Fatal\" (2/6)"
      ],
      "metadata": {
        "id": "BaPga9frYgOI"
      }
    },
    {
      "cell_type": "code",
      "source": [
        "column_analysis(df3,\"Fatal\",\"string\")"
      ],
      "metadata": {
        "id": "1kZ8bn3CREOJ"
      },
      "execution_count": null,
      "outputs": []
    },
    {
      "cell_type": "code",
      "source": [
        "# Column: 'Fatal'\n",
        "\n",
        "#Removing empty spaces and replacing some values:\n",
        "replace_value(df3,'Fatal',\" N\",\"N\")\n",
        "replace_value(df3,'Fatal',\"N \",\"N\")\n",
        "replace_value(df3,'Fatal',\"y\",\"Y\")\n",
        "replace_value(df3,'Fatal',np.nan,\"UNKNOWN\")\n",
        "#checking how can I change values \"2017\" and \"M\":\n",
        "#df3[df3[\"Fatal\"]==\"2017\"]\n",
        "replace_value(df3,'Fatal',\"2017\",\"N\")\n",
        "#df3[df3[\"Fatal\"]==\"M\"]\n",
        "replace_value(df3,'Fatal',\"M\",\"N\")\n",
        "\n",
        "#Looking at Null values:\n",
        "#df3.loc[df3[\"Fatal\"].isna()]\n",
        "# I see word \"FATAL\" and \"No injury\" in neighbour column \"Injury\". I want to fill empty values in column 'Fatal' depending on these but let's work first on column \"Injury\"."
      ],
      "metadata": {
        "id": "d2ZYbaQXPyHi"
      },
      "execution_count": 37,
      "outputs": []
    },
    {
      "cell_type": "markdown",
      "source": [
        "* Column \"Injury\" (3/6)"
      ],
      "metadata": {
        "id": "njITSVN6nA32"
      }
    },
    {
      "cell_type": "code",
      "source": [
        "column_analysis(df3,\"Injury\",\"string\")"
      ],
      "metadata": {
        "id": "W2OXCV3PRS2H"
      },
      "execution_count": null,
      "outputs": []
    },
    {
      "cell_type": "code",
      "source": [
        "# Replacing some values to group them better:\n",
        "\n",
        "#[df3[\"Injury\"].value_counts(dropna=False)[:50]]\n",
        "replace_value(df3,'Injury',np.nan,'No details')\n",
        "replace_value(df3,'Injury',None, 'No details') # I change null to string to be able to work with str.contains, otherwise boolean masking does not work.\n",
        "replace_value(df3,'Injury','unknown','No details')\n",
        "replace_value(df3,'Injury','No injury, board bitten','No injury')\n",
        "replace_value(df3,'Injury','FATAL, body not recovered','FATAL')\n",
        "replace_value(df3,'Injury','FATAL ','FATAL')\n",
        "replace_value(df3,'Injury','Minor injuries','Minor injury')\n",
        "replace_value(df3,'Injury','No injury to occupants','No injury')\n",
        "replace_value(df3,'Injury','No injury, surfboard bitten','No injury')\n",
        "replace_value(df3,'Injury','No injury, shark bit surfboard','No injury')\n",
        "replace_value(df3,'Injury','No injury, kayak bitten','No injury')\n",
        "replace_value(df3,'Injury','FATAL, leg severed ','FATAL')\n",
        "replace_value(df3,'Injury','FATAL, legs bitten ','FATAL')\n",
        "replace_value(df3,'Injury','No injury, ski bitten','No injury')\n",
        "\n",
        "\n",
        "#inspeting Null values\n",
        "#df3[\"Injury\"].isnull().sum()\n",
        "\n",
        "# Now, as mentioned before, I want to use the data from Injury column to fill in some missing data in column \"Fatal\".\n",
        "df3.loc[df3[\"Injury\"].str.contains(\"FATAL\"),\"Fatal\"] = \"Y\"\n",
        "df3.loc[df3[\"Injury\"].str.contains(\"No injury\"),\"Fatal\"] = \"N\"\n",
        "#df3[df3[\"Injury\"].str.contains(\"FATAL\")] # looks it worked"
      ],
      "metadata": {
        "id": "4Vp7f-jVa51v"
      },
      "execution_count": 39,
      "outputs": []
    },
    {
      "cell_type": "markdown",
      "source": [
        "* Column \"Activity\" (4/6)"
      ],
      "metadata": {
        "id": "Vgc_6IrYnRF-"
      }
    },
    {
      "cell_type": "code",
      "source": [
        "column_analysis(df3,\"Activity\",\"string\")"
      ],
      "metadata": {
        "id": "3Lx0-7ShoyPB",
        "colab": {
          "base_uri": "https://localhost:8080/",
          "height": 1000
        },
        "outputId": "7e0a48c6-3194-4587-ffcb-28b87789788c"
      },
      "execution_count": 64,
      "outputs": [
        {
          "output_type": "stream",
          "name": "stdout",
          "text": [
            "*** Inspecting column 'Activity' *** \n",
            "\n",
            "Column \"Activity\" has datatype: object\n",
            "\n",
            "* Number of unique values in column 'Activity': 1362\n",
            "\n",
            "\n",
            "\n",
            "* Sorting and looking at the edges\n",
            " - Could not sort values: '<' not supported between instances of 'NoneType' and 'str'\n",
            " - Trying filtering NULL values and then sorting\n"
          ]
        },
        {
          "output_type": "display_data",
          "data": {
            "text/plain": [
              "['\"boat accident\"',\n",
              " '\"climbing up to ship after repairing the stern in water\"',\n",
              " '\"crossing the river\"',\n",
              " '\"flying tiger\" transport plane went down with 5 men onboard',\n",
              " '\"riding waves on a board\"',\n",
              " '\"swimming vigorously\"',\n",
              " '13 men in the water after sailboat capsized & sank',\n",
              " '14 m prawn trawler new venture capsized  & sank in heavy seas three people in the water',\n",
              " '1446-ton norwegian barque errol, bound from peru to newcastle with 22 on board wrecked. survivors shelterd on the wreck of the annasona. subsequently the master, his wife & 4 children perished along with several crew. survivors (5) were rescued 7/12/1909',\n",
              " \"16' catamaran capsized previous night, occupants stayed with wreckage until morning, then attempted to swim ashore\",\n",
              " '17 maldivians adrift in open boat for 31 days',\n",
              " '2 boats capsized',\n",
              " '2 messboys (jeppsen) & tony latona (13) were playing on the afterdeck of the danish ship grete maersk. jeppsen fell overboard, latona threw a lifebelt then jumped in to help him. ship didn’t notice they were missing',\n",
              " '25-foot cabin cruiser happy jack sank in heavy seas',\n",
              " '3 men & 2 boys picked up wearing life jackets and with inner tube',\n",
              " '3,909-ton panamanian freighter chieh lee sank in a typhoon',\n",
              " '3-masted steel barque glenbank foundered during a cyclone',\n",
              " '3.3 m fishing boat sank. treveluwe & peter hodgson (wearing lifejackets) were drifting in the current',\n",
              " '4 men were bathing',\n",
              " \"40' fishing boat sank\"]"
            ]
          },
          "metadata": {}
        },
        {
          "output_type": "display_data",
          "data": {
            "text/plain": [
              "['wreck of  large double sailing canoe',\n",
              " 'wreck of the 1308-ton norwegian ship auckland',\n",
              " 'wreck of the 150-ton brig maria',\n",
              " 'wreck of the 1689-ton portuguese  coaster angoche',\n",
              " 'wreck of the aphrodite',\n",
              " 'wreck of the schooner driver',\n",
              " 'wreck of the schooner pohoiki',\n",
              " 'wreck of the sovereign',\n",
              " 'wreck of the state oil company ship permina',\n",
              " 'wreck of the steamship birkenhead',\n",
              " 'wreck of the steamship sultan of bombay',\n",
              " 'wreck of the storm king',\n",
              " 'wreck of the tug magellan',\n",
              " 'wreck of the tweed',\n",
              " 'wreck of the union steamship company 982-ton iron steamer kafir',\n",
              " 'wreck of the uss somers',\n",
              " 'yacht of michael howell capsized',\n",
              " 'yacht race',\n",
              " 'yachting accident',\n",
              " 'yachtsman in a zodiac']"
            ]
          },
          "metadata": {}
        },
        {
          "output_type": "stream",
          "name": "stdout",
          "text": [
            "\n",
            "\n",
            "* Trying to cast to assumed type:\n",
            "Casting to string was successful\n",
            "\n",
            "* Looking at frequency: \n"
          ]
        },
        {
          "output_type": "display_data",
          "data": {
            "text/plain": [
              "surfing                                                                                                                                                 935\n",
              "swimming                                                                                                                                                820\n",
              "None                                                                                                                                                    425\n",
              "fishing                                                                                                                                                 421\n",
              "spearfishing                                                                                                                                            313\n",
              "                                                                                                                                                       ... \n",
              "picking up shark by the tail                                                                                                                              1\n",
              "wading & pushing dinghy toward  the shallows                                                                                                              1\n",
              "diving. shark “swallowed’ his hand, so he threw his other around the shark and went “shark-back riding” for 30 yards until the shark opened its jaws      1\n",
              "small boat with 2 men onboard hit a submerged coral formation. men began swimming to shore                                                                1\n",
              "wreck of  large double sailing canoe                                                                                                                      1\n",
              "Name: Activity, Length: 1362, dtype: int64"
            ]
          },
          "metadata": {}
        },
        {
          "output_type": "stream",
          "name": "stdout",
          "text": [
            "\n",
            "\n",
            "* Number of default null values in column \"Activity\": 425\n",
            "\n"
          ]
        }
      ]
    },
    {
      "cell_type": "code",
      "source": [
        "df3[\"Activity\"] = df3.loc[:,\"Activity\"].str.strip().str.lower()\n",
        "replace_value(df3,\"Activity\",'',None)\n",
        "replace_value(df3,\"Activity\",'.',None)\n",
        "replace_value(df3,\"Activity\",np.nan,None)\n",
        "replace_value(df3,\"Activity\",\"freediving\",\"free diving\")\n",
        "\n",
        "[df3[\"Activity\"].value_counts(dropna=False)[:50]]\n",
        "\n",
        "df3[df3[\"Activity\"].isnull()] # I think i leave null values ase they are"
      ],
      "metadata": {
        "id": "hFPSmqOPj7Oj"
      },
      "execution_count": null,
      "outputs": []
    },
    {
      "cell_type": "markdown",
      "source": [
        "* Column \"Age\" (5/6)"
      ],
      "metadata": {
        "id": "eZx00Qq0m5JK"
      }
    },
    {
      "cell_type": "code",
      "source": [
        "column_analysis(df3,\"Age\",int)"
      ],
      "metadata": {
        "id": "XyvdABWFDIoS",
        "colab": {
          "base_uri": "https://localhost:8080/",
          "height": 538
        },
        "outputId": "e6ba5824-91bb-4676-8e2e-311c2eb5f3bd"
      },
      "execution_count": 44,
      "outputs": [
        {
          "output_type": "stream",
          "name": "stdout",
          "text": [
            "*** Inspecting column 'Age' *** \n",
            "\n",
            "Column \"Age\" has datatype: object\n",
            "\n",
            "* Number of unique values in column 'Age': 3\n",
            "\n",
            "* List of unique values in column 'Age':\n",
            " ! Could not sort values !\n"
          ]
        },
        {
          "output_type": "display_data",
          "data": {
            "text/plain": [
              "['adult', 'child', nan]"
            ]
          },
          "metadata": {}
        },
        {
          "output_type": "stream",
          "name": "stdout",
          "text": [
            "\n",
            "\n",
            "* Sorting and looking at the edges\n",
            " - Could not sort values: '<' not supported between instances of 'float' and 'str'\n",
            " - Trying filtering NULL values and then sorting\n"
          ]
        },
        {
          "output_type": "display_data",
          "data": {
            "text/plain": [
              "['adult', 'child']"
            ]
          },
          "metadata": {}
        },
        {
          "output_type": "display_data",
          "data": {
            "text/plain": [
              "['adult', 'child']"
            ]
          },
          "metadata": {}
        },
        {
          "output_type": "stream",
          "name": "stdout",
          "text": [
            "\n",
            "\n",
            "* Trying to cast to assumed type:\n",
            "Casting to <class 'int'> was successful\n",
            "\n",
            "* Looking at frequency: \n"
          ]
        },
        {
          "output_type": "display_data",
          "data": {
            "text/plain": [
              "NaN      2519\n",
              "adult    2455\n",
              "child     777\n",
              "Name: Age, dtype: int64"
            ]
          },
          "metadata": {}
        },
        {
          "output_type": "stream",
          "name": "stdout",
          "text": [
            "\n",
            "\n",
            "* Number of default null values in column \"Age\": 2519\n",
            "\n"
          ]
        }
      ]
    },
    {
      "cell_type": "code",
      "source": [
        "#I replace some values i think is needed. Null values are of the correct type NaN.\n",
        "df3[\"Age\"] = df3.loc[:,\"Age\"].str.strip()\n",
        "replace_value(df3,\"Age\",' ', 'np.nan')\n",
        "replace_value(df3,\"Age\",'.', 'np.nan')\n",
        "replace_value(df3,\"Age\",'', 'np.nan')\n",
        "replace_value(df3,\"Age\",'nan', 'np.nan')\n",
        "replace_value(df3,\"Age\",'\"middle-age\"','35')\n",
        "replace_value(df3,\"Age\",'\"young\"','30')\n",
        "replace_value(df3,\"Age\",'(adult)','30')\n",
        "replace_value(df3,\"Age\",'10 or 12','11')\n",
        "replace_value(df3,\"Age\",'12 or 13','12')\n",
        "replace_value(df3,\"Age\",'13 or 14','13')\n",
        "replace_value(df3,\"Age\",'13 or 18','15')\n",
        "replace_value(df3,\"Age\",'9 & 12','10')\n",
        "replace_value(df3,\"Age\",'9 or 10','10')\n",
        "replace_value(df3,\"Age\",'9 months','1')\n",
        "replace_value(df3,\"Age\",'18 months','2')\n",
        "replace_value(df3,\"Age\",'>50','55')\n",
        "replace_value(df3,\"Age\",'?    &   14','14')\n",
        "replace_value(df3,\"Age\",'A.M','np.nan')\n",
        "replace_value(df3,\"Age\",'Both 11','11')\n",
        "replace_value(df3,\"Age\",'Elderly','60')\n",
        "replace_value(df3,\"Age\",'F','np.nan')\n",
        "replace_value(df3,\"Age\",'MAKE LINE GREEN', 'np.nan')\n",
        "replace_value(df3,\"Age\",'Teens','10')\n",
        "replace_value(df3,\"Age\",'teen','10')\n",
        "replace_value(df3,\"Age\",'Teen','10')\n",
        "replace_value(df3,\"Age\",'X','np.nan')\n",
        "replace_value(df3,\"Age\",'adult','30')\n",
        "replace_value(df3,\"Age\",'mid-30s','35')\n",
        "replace_value(df3,\"Age\",'young','30')\n",
        "replace_value(df3,\"Age\",'\\xa0 ','np.nan')\n",
        "replace_value(df3,\"Age\",'20s','25')\n",
        "replace_value(df3,\"Age\",'30s','35')\n",
        "replace_value(df3,\"Age\",'40s','45')\n",
        "replace_value(df3,\"Age\",'50s','50s')\n",
        "replace_value(df3,\"Age\",'60s','60s')\n",
        "\n",
        "\n",
        "#[df3[\"Age\"].value_counts(dropna=False)[:50]]\n",
        "#df3[df3[\"Age\"].isnull()]\n",
        "# looking what we have, think this data is usefull for further analysis like this\n",
        "# Replacing data by categorizing age to adult and child categories for the purpose of the analysis:\n",
        "df3.loc[df3[\"Age\"] > \"17\", \"Age\"] = \"adult\"\n",
        "df3.loc[df3[\"Age\"] <= \"17\", \"Age\"] = \"child\"\n",
        "\n"
      ],
      "metadata": {
        "id": "BV--wfwzsH5I"
      },
      "execution_count": 43,
      "outputs": []
    },
    {
      "cell_type": "markdown",
      "source": [
        "* Column \"Species\" (5/6)"
      ],
      "metadata": {
        "id": "l4JpcEWznbCt"
      }
    },
    {
      "cell_type": "code",
      "source": [
        "column_analysis(df3,\"Species\",str)"
      ],
      "metadata": {
        "id": "GuqfZ9fPH3ug"
      },
      "execution_count": null,
      "outputs": []
    },
    {
      "cell_type": "code",
      "source": [
        "df3[\"Species\"] = df3.loc[:,\"Species\"].str.strip().str.lower()\n",
        "replace_value(df3,\"Species\",None, \"unknown\") # replacing null values with string so i can do boolean masking\n",
        "df3.loc[df3[\"Species\"].str.contains(\"white\"),\"Species\"] = \"white shark\"\n",
        "df3.loc[df3[\"Species\"].str.contains(\"tiger\"),\"Species\"] = \"tiger shark\"\n",
        "df3.loc[df3[\"Species\"].str.contains(\"bull\"),\"Species\"] = \"bull shark\"\n",
        "df3.loc[df3[\"Species\"].str.contains(\"wobbegong\"),\"Species\"] = \"wobbegong shark\"\n",
        "df3.loc[df3[\"Species\"].str.contains(\"zambesi\"),\"Species\"] = \"zambezi shark\"\n",
        "df3.loc[df3[\"Species\"].str.contains(\"zambezi\"),\"Species\"] = \"zambezi shark\"\n",
        "df3.loc[df3[\"Species\"].str.contains(\"brown\"),\"Species\"] = \"brown shark\"\n",
        "df3.loc[df3[\"Species\"].str.contains(\"small\"),\"Species\"] = \"small shark\"\n",
        "df3.loc[df3[\"Species\"].str.contains(\"1.5\"),\"Species\"] = \"5' shark\"\n",
        "df3.loc[df3[\"Species\"].str.contains(\"1.8\"),\"Species\"] = \"6' shark\"\n",
        "df3.loc[df3[\"Species\"].str.contains(\"1.2\"),\"Species\"] = \"4' shark\"\n",
        "df3.loc[df3[\"Species\"].str.contains(\"10'\"),\"Species\"] = \"10' shark\"\n",
        "df3.loc[df3[\"Species\"].str.contains(\"7'\"),\"Species\"] = \"7' shark\"\n",
        "df3.loc[df3[\"Species\"].str.contains(\"12'\"),\"Species\"] = \"12' shark\"\n",
        "df3.loc[df3[\"Species\"].str.contains(\"8'\"),\"Species\"] = \"8' shark\"\n",
        "df3.loc[df3[\"Species\"].str.contains(\"unidentified\"),\"Species\"] = \"unknown\"\n",
        "\n",
        "[df3[\"Species\"].value_counts(dropna=False)[:50]] # I am satisfied with this data at this point\n"
      ],
      "metadata": {
        "id": "sx-NdePKI8EY"
      },
      "execution_count": null,
      "outputs": []
    },
    {
      "cell_type": "markdown",
      "source": [
        "Now the data set is cleaned up I will try to answer the questions of this assignment:\n",
        "* 1 What are the most dangerous types of sharks to humans?\n",
        "* 2 Are children more likely to be attacked by sharks?\n",
        "* 3 Are shark attacks where sharks were provoked more or less dangerous?\n",
        "* 4 Are certain activities more likely to result in a shark attack?"
      ],
      "metadata": {
        "id": "JM6t9TwWVWfO"
      }
    },
    {
      "cell_type": "markdown",
      "source": [
        "Ad.1 What are the most dangerous types of sharks to humans?\n",
        "\n",
        "To answer this question I look at number of all shark attacks per type of shark. Then I check how many of these attacks were fatal and how many were not fatal."
      ],
      "metadata": {
        "id": "M3of_Kz4cq7P"
      }
    },
    {
      "cell_type": "code",
      "source": [
        "# I create smaller data base with the necessary data only:\n",
        "most_dangerous = df3.loc[:,\"Fatal\":\"Species\"]\n",
        "md= most_dangerous[(most_dangerous.Species !=\"unknown\") & (most_dangerous.Fatal !=\"unknown\")]\n",
        "\n",
        "# was not sure how to make plot from value_counts,I googled it: https://www.statology.org/pandas-plot-value-counts/ :\n",
        "md.value_counts(\"Species\").head(10).plot(kind=\"bar\")\n",
        "\n",
        "plt.xticks(rotation=45)\n",
        "plt.xlabel(\"Shark type\")\n",
        "plt.ylabel(\"No. of attacks\")\n",
        "plt.title(\"Total no. of attacks per shark type\") # concerns the records where shark type is known\n",
        "plt.grid(True, axis=\"y\")"
      ],
      "metadata": {
        "colab": {
          "base_uri": "https://localhost:8080/",
          "height": 525
        },
        "id": "6xZjSSHVB9ze",
        "outputId": "a296fe03-e535-45c4-b357-01aafb84c9dc"
      },
      "execution_count": 47,
      "outputs": [
        {
          "output_type": "display_data",
          "data": {
            "text/plain": [
              "<Figure size 640x480 with 1 Axes>"
            ],
            "image/png": "[encoded data removed]"
          },
          "metadata": {}
        }
      ]
    },
    {
      "cell_type": "code",
      "source": [
        "# Looking at fatal cases:\n",
        "fatal = md.loc[md.Fatal == \"Y\"].value_counts().head(5) # I look further on top 5 types of sharks\n",
        "fatal.plot(kind='bar')\n",
        "\n",
        "plt.xticks(rotation=45)\n",
        "plt.xlabel(\"Shark type\")\n",
        "plt.ylabel(\"No. of attacks\")\n",
        "plt.title(\"No. of fatal attacks per shark type\")\n",
        "plt.grid(True, axis=\"y\")"
      ],
      "metadata": {
        "colab": {
          "base_uri": "https://localhost:8080/",
          "height": 545
        },
        "id": "stt84pFh55Oo",
        "outputId": "0a3d9d2a-f204-41ab-cd13-8ce6c4942e31"
      },
      "execution_count": 59,
      "outputs": [
        {
          "output_type": "display_data",
          "data": {
            "text/plain": [
              "<Figure size 640x480 with 1 Axes>"
            ],
            "image/png": "[encoded data removed]"
          },
          "metadata": {}
        }
      ]
    },
    {
      "cell_type": "code",
      "source": [
        "# Looking at non-fatal cases:\n",
        "non_fatal = md.loc[md.Fatal == \"N\"].value_counts().head(5)\n",
        "non_fatal.plot(kind='bar')\n",
        "\n",
        "plt.xticks(rotation=45)\n",
        "plt.xlabel(\"Shark type\")\n",
        "plt.ylabel(\"No. of attacks\")\n",
        "plt.title(\"No. of non-fatal attacks per shark type\")\n",
        "plt.grid(True, axis=\"y\")"
      ],
      "metadata": {
        "colab": {
          "base_uri": "https://localhost:8080/",
          "height": 546
        },
        "id": "3XnGSB67AKFh",
        "outputId": "bda1ba1b-67cb-4b32-91a5-4b520a0ea85c"
      },
      "execution_count": 49,
      "outputs": [
        {
          "output_type": "display_data",
          "data": {
            "text/plain": [
              "<Figure size 640x480 with 1 Axes>"
            ],
            "image/png": "[encoded data removed]"
          },
          "metadata": {}
        }
      ]
    },
    {
      "cell_type": "markdown",
      "source": [
        "Answer question 1: There are no doubts that White shark is the most dangerous. The most cases of sharks attacks registerred concern this type of shark, also the most fatal cases are due to the White shark's involvement as well as not-fatal cases."
      ],
      "metadata": {
        "id": "PBGbG69iD4PU"
      }
    },
    {
      "cell_type": "markdown",
      "source": [
        "\n",
        "\n",
        "---\n",
        "\n",
        "Ad.2 Are children more likely to be attacked by sharks?"
      ],
      "metadata": {
        "id": "pwVNLYd-F6kL"
      }
    },
    {
      "cell_type": "code",
      "source": [
        "age = df3.dropna(subset=['Age'], how=\"all\") # dropping rows with null values in column \"Age\"\n",
        "\n",
        "(age.loc[:,\"Age\"].value_counts()).plot(kind=\"bar\")\n",
        "\n",
        "plt.xticks(rotation=0)\n",
        "plt.xlabel(\"Age category\")\n",
        "plt.ylabel(\"No. of attacks\")\n",
        "plt.title(\"No. of sharkt attacks on adults vs.children\")\n",
        "plt.grid(True, axis=\"y\")"
      ],
      "metadata": {
        "colab": {
          "base_uri": "https://localhost:8080/",
          "height": 472
        },
        "id": "skF8h4o-GQS-",
        "outputId": "eed9fd61-3b43-40dc-d5b3-405c3ba669af"
      },
      "execution_count": 50,
      "outputs": [
        {
          "output_type": "display_data",
          "data": {
            "text/plain": [
              "<Figure size 640x480 with 1 Axes>"
            ],
            "image/png": "[encoded data removed]"
          },
          "metadata": {}
        }
      ]
    },
    {
      "cell_type": "markdown",
      "source": [
        "Answer ad.2: There is no evidence that children are more likely to be attacked by sharks than adults. There are 3 times more cases registerred where adults were attacked comparing to cases where attacks involved children."
      ],
      "metadata": {
        "id": "Ha_B1t9pKF60"
      }
    },
    {
      "cell_type": "markdown",
      "source": [
        "---\n",
        "Ad.3 Are shark attacks where sharks were provoked more or less dangerous?\n",
        "\n",
        "To answer this question I compare data from the columns \"Fatal\" and \"Type\". I look on how many of the attacks where provoked and not provoked and if there is a corelation between the type of attack and consequences for attacked person (are provoked attacks leading to more fatal cases than not provoked).\n"
      ],
      "metadata": {
        "id": "YIopYxzXMDPo"
      }
    },
    {
      "cell_type": "code",
      "source": [
        "df4 = df3.loc[:,[\"Type\",\"Fatal\"]]\n",
        "df4[\"Type\"].unique()\n",
        "replace_value(df4,\"Type\",'Boating', None)\n",
        "replace_value(df4,\"Type\",'Questionable', None)\n",
        "replace_value(df4,\"Fatal\",'N', \"Not fatal\")\n",
        "replace_value(df4,\"Fatal\",'Y', \"Fatal\")\n",
        "\n",
        "df4.dropna(inplace=True) # removing null values\n",
        "df5= df4[(df4.Fatal !=\"UNKNOWN\")] # removing rows with no data in Fatal column\n",
        "\n",
        "# I make a data frame from value_counts:\n",
        "provoked = pd.DataFrame(df5.value_counts())\n",
        "#provoked\n",
        "provoked.rename(columns={ 0:\"No_of_attacks\"}, inplace=True)\n",
        "\n",
        "\n",
        "ax = provoked.plot.bar(rot=25)\n",
        "plt.xlabel(\"Type of case prior and after attack\")\n",
        "plt.ylabel(\"Number of shark attack cases\")\n",
        "plt.title(\"Number of provoked shark attacks vs. not-provoked with consequences of attack\")\n",
        "\n",
        "ax.grid(True, axis=\"y\")\n",
        "provoked"
      ],
      "metadata": {
        "colab": {
          "base_uri": "https://localhost:8080/",
          "height": 728
        },
        "id": "5dOiH-f5MLo_",
        "outputId": "260dedf5-2800-4e12-a251-2b537fe2b389"
      },
      "execution_count": 58,
      "outputs": [
        {
          "output_type": "execute_result",
          "data": {
            "text/plain": [
              "                      No_of_attacks\n",
              "Type       Fatal                   \n",
              "Unprovoked Not fatal           3421\n",
              "           Fatal               1350\n",
              "Provoked   Not fatal            551\n",
              "           Fatal                 19"
            ],
            "text/html": [
              "\n",
              "  <div id=\"df-200c0f08-9d08-4f9e-bbfd-19cfe11f7d90\" class=\"colab-df-container\">\n",
              "    <div>\n",
              "<style scoped>\n",
              "    .dataframe tbody tr th:only-of-type {\n",
              "        vertical-align: middle;\n",
              "    }\n",
              "\n",
              "    .dataframe tbody tr th {\n",
              "        vertical-align: top;\n",
              "    }\n",
              "\n",
              "    .dataframe thead th {\n",
              "        text-align: right;\n",
              "    }\n",
              "</style>\n",
              "<table border=\"1\" class=\"dataframe\">\n",
              "  <thead>\n",
              "    <tr style=\"text-align: right;\">\n",
              "      <th></th>\n",
              "      <th></th>\n",
              "      <th>No_of_attacks</th>\n",
              "    </tr>\n",
              "    <tr>\n",
              "      <th>Type</th>\n",
              "      <th>Fatal</th>\n",
              "      <th></th>\n",
              "    </tr>\n",
              "  </thead>\n",
              "  <tbody>\n",
              "    <tr>\n",
              "      <th rowspan=\"2\" valign=\"top\">Unprovoked</th>\n",
              "      <th>Not fatal</th>\n",
              "      <td>3421</td>\n",
              "    </tr>\n",
              "    <tr>\n",
              "      <th>Fatal</th>\n",
              "      <td>1350</td>\n",
              "    </tr>\n",
              "    <tr>\n",
              "      <th rowspan=\"2\" valign=\"top\">Provoked</th>\n",
              "      <th>Not fatal</th>\n",
              "      <td>551</td>\n",
              "    </tr>\n",
              "    <tr>\n",
              "      <th>Fatal</th>\n",
              "      <td>19</td>\n",
              "    </tr>\n",
              "  </tbody>\n",
              "</table>\n",
              "</div>\n",
              "    <div class=\"colab-df-buttons\">\n",
              "\n",
              "  <div class=\"colab-df-container\">\n",
              "    <button class=\"colab-df-convert\" onclick=\"convertToInteractive('df-200c0f08-9d08-4f9e-bbfd-19cfe11f7d90')\"\n",
              "            title=\"Convert this dataframe to an interactive table.\"\n",
              "            style=\"display:none;\">\n",
              "\n",
              "  <svg xmlns=\"http://www.w3.org/2000/svg\" height=\"24px\" viewBox=\"0 -960 960 960\">\n",
              "    <path d=\"M120-120v-720h720v720H120Zm60-500h600v-160H180v160Zm220 220h160v-160H400v160Zm0 220h160v-160H400v160ZM180-400h160v-160H180v160Zm440 0h160v-160H620v160ZM180-180h160v-160H180v160Zm440 0h160v-160H620v160Z\"/>\n",
              "  </svg>\n",
              "    </button>\n",
              "\n",
              "  <style>\n",
              "    .colab-df-container {\n",
              "      display:flex;\n",
              "      gap: 12px;\n",
              "    }\n",
              "\n",
              "    .colab-df-convert {\n",
              "      background-color: #E8F0FE;\n",
              "      border: none;\n",
              "      border-radius: 50%;\n",
              "      cursor: pointer;\n",
              "      display: none;\n",
              "      fill: #1967D2;\n",
              "      height: 32px;\n",
              "      padding: 0 0 0 0;\n",
              "      width: 32px;\n",
              "    }\n",
              "\n",
              "    .colab-df-convert:hover {\n",
              "      background-color: #E2EBFA;\n",
              "      box-shadow: 0px 1px 2px rgba(60, 64, 67, 0.3), 0px 1px 3px 1px rgba(60, 64, 67, 0.15);\n",
              "      fill: #174EA6;\n",
              "    }\n",
              "\n",
              "    .colab-df-buttons div {\n",
              "      margin-bottom: 4px;\n",
              "    }\n",
              "\n",
              "    [theme=dark] .colab-df-convert {\n",
              "      background-color: #3B4455;\n",
              "      fill: #D2E3FC;\n",
              "    }\n",
              "\n",
              "    [theme=dark] .colab-df-convert:hover {\n",
              "      background-color: #434B5C;\n",
              "      box-shadow: 0px 1px 3px 1px rgba(0, 0, 0, 0.15);\n",
              "      filter: drop-shadow(0px 1px 2px rgba(0, 0, 0, 0.3));\n",
              "      fill: #FFFFFF;\n",
              "    }\n",
              "  </style>\n",
              "\n",
              "    <script>\n",
              "      const buttonEl =\n",
              "        document.querySelector('#df-200c0f08-9d08-4f9e-bbfd-19cfe11f7d90 button.colab-df-convert');\n",
              "      buttonEl.style.display =\n",
              "        google.colab.kernel.accessAllowed ? 'block' : 'none';\n",
              "\n",
              "      async function convertToInteractive(key) {\n",
              "        const element = document.querySelector('#df-200c0f08-9d08-4f9e-bbfd-19cfe11f7d90');\n",
              "        const dataTable =\n",
              "          await google.colab.kernel.invokeFunction('convertToInteractive',\n",
              "                                                    [key], {});\n",
              "        if (!dataTable) return;\n",
              "\n",
              "        const docLinkHtml = 'Like what you see? Visit the ' +\n",
              "          '<a target=\"_blank\" href=https://colab.research.google.com/notebooks/data_table.ipynb>data table notebook</a>'\n",
              "          + ' to learn more about interactive tables.';\n",
              "        element.innerHTML = '';\n",
              "        dataTable['output_type'] = 'display_data';\n",
              "        await google.colab.output.renderOutput(dataTable, element);\n",
              "        const docLink = document.createElement('div');\n",
              "        docLink.innerHTML = docLinkHtml;\n",
              "        element.appendChild(docLink);\n",
              "      }\n",
              "    </script>\n",
              "  </div>\n",
              "\n",
              "    </div>\n",
              "  </div>\n"
            ]
          },
          "metadata": {},
          "execution_count": 58
        },
        {
          "output_type": "display_data",
          "data": {
            "text/plain": [
              "<Figure size 640x480 with 1 Axes>"
            ],
            "image/png": "[encoded data removed]"
          },
          "metadata": {}
        }
      ]
    },
    {
      "cell_type": "markdown",
      "source": [
        "Answer ad.3: Number of unprovoked attacks is much higher than number of provoked attacks. There seems to be no corelation between cause of attack (provoked or not) and consequnces for attacked person (fatal or not) therefore it seems provoked attacks are not more dangerous than not provoked."
      ],
      "metadata": {
        "id": "kmIkjw1XSMsL"
      }
    },
    {
      "cell_type": "markdown",
      "source": [
        "---\n",
        "Ad.4 Are certain activities more likely to result in a shark attack?\n",
        "\n",
        "To answer this question I look at column \"Activity\" and number of registerred cases.\n"
      ],
      "metadata": {
        "id": "_JU5DoakSDCb"
      }
    },
    {
      "cell_type": "code",
      "source": [
        "activities = df3.loc[:,\"Activity\"]\n",
        "#activities\n",
        "activities_final = activities.dropna(how=\"all\") # dropping rows with empty values\n",
        "#activities_final.shape # number of all cases of attacks where type of activity is known is 5326\n",
        "\n",
        "af= pd.DataFrame(activities_final.value_counts().head(15)) # There are a lot of unique values in this columns, I take top 15 for the analysis\n",
        "af[\"% of all\"] = (af[\"Activity\"]/5326)*100\n",
        "pd.options.display.float_format = '{:.0f}'.format\n",
        "display(af)\n",
        "\n",
        "fig, ax = plt.subplots()\n",
        "af.loc[:,\"% of all\"].plot.bar(rot=45)\n",
        "\n",
        "plt.xlabel(\"Types of activities while attacked by shark\")\n",
        "plt.ylabel(\"% of total number of shark attacks\")\n",
        "plt.title(\" % of all shark attacks during top 15 registerred activities\")\n",
        "ax.grid(True, axis=\"y\")"
      ],
      "metadata": {
        "colab": {
          "base_uri": "https://localhost:8080/",
          "height": 1000
        },
        "id": "xi-SnxckUQqC",
        "outputId": "7ba38e84-03e9-4e0c-b04d-4a18c11f8187"
      },
      "execution_count": 116,
      "outputs": [
        {
          "output_type": "display_data",
          "data": {
            "text/plain": [
              "                 Activity  % of all\n",
              "surfing               935        18\n",
              "swimming              820        15\n",
              "fishing               421         8\n",
              "spearfishing          313         6\n",
              "bathing               152         3\n",
              "wading                140         3\n",
              "diving                117         2\n",
              "standing              100         2\n",
              "snorkeling             87         2\n",
              "scuba diving           71         1\n",
              "body boarding          65         1\n",
              "body surfing           47         1\n",
              "boogie boarding        40         1\n",
              "free diving            36         1\n",
              "kayaking               33         1"
            ],
            "text/html": [
              "\n",
              "  <div id=\"df-6758307f-70ae-44fb-9eb3-e432e0b5ccae\" class=\"colab-df-container\">\n",
              "    <div>\n",
              "<style scoped>\n",
              "    .dataframe tbody tr th:only-of-type {\n",
              "        vertical-align: middle;\n",
              "    }\n",
              "\n",
              "    .dataframe tbody tr th {\n",
              "        vertical-align: top;\n",
              "    }\n",
              "\n",
              "    .dataframe thead th {\n",
              "        text-align: right;\n",
              "    }\n",
              "</style>\n",
              "<table border=\"1\" class=\"dataframe\">\n",
              "  <thead>\n",
              "    <tr style=\"text-align: right;\">\n",
              "      <th></th>\n",
              "      <th>Activity</th>\n",
              "      <th>% of all</th>\n",
              "    </tr>\n",
              "  </thead>\n",
              "  <tbody>\n",
              "    <tr>\n",
              "      <th>surfing</th>\n",
              "      <td>935</td>\n",
              "      <td>18</td>\n",
              "    </tr>\n",
              "    <tr>\n",
              "      <th>swimming</th>\n",
              "      <td>820</td>\n",
              "      <td>15</td>\n",
              "    </tr>\n",
              "    <tr>\n",
              "      <th>fishing</th>\n",
              "      <td>421</td>\n",
              "      <td>8</td>\n",
              "    </tr>\n",
              "    <tr>\n",
              "      <th>spearfishing</th>\n",
              "      <td>313</td>\n",
              "      <td>6</td>\n",
              "    </tr>\n",
              "    <tr>\n",
              "      <th>bathing</th>\n",
              "      <td>152</td>\n",
              "      <td>3</td>\n",
              "    </tr>\n",
              "    <tr>\n",
              "      <th>wading</th>\n",
              "      <td>140</td>\n",
              "      <td>3</td>\n",
              "    </tr>\n",
              "    <tr>\n",
              "      <th>diving</th>\n",
              "      <td>117</td>\n",
              "      <td>2</td>\n",
              "    </tr>\n",
              "    <tr>\n",
              "      <th>standing</th>\n",
              "      <td>100</td>\n",
              "      <td>2</td>\n",
              "    </tr>\n",
              "    <tr>\n",
              "      <th>snorkeling</th>\n",
              "      <td>87</td>\n",
              "      <td>2</td>\n",
              "    </tr>\n",
              "    <tr>\n",
              "      <th>scuba diving</th>\n",
              "      <td>71</td>\n",
              "      <td>1</td>\n",
              "    </tr>\n",
              "    <tr>\n",
              "      <th>body boarding</th>\n",
              "      <td>65</td>\n",
              "      <td>1</td>\n",
              "    </tr>\n",
              "    <tr>\n",
              "      <th>body surfing</th>\n",
              "      <td>47</td>\n",
              "      <td>1</td>\n",
              "    </tr>\n",
              "    <tr>\n",
              "      <th>boogie boarding</th>\n",
              "      <td>40</td>\n",
              "      <td>1</td>\n",
              "    </tr>\n",
              "    <tr>\n",
              "      <th>free diving</th>\n",
              "      <td>36</td>\n",
              "      <td>1</td>\n",
              "    </tr>\n",
              "    <tr>\n",
              "      <th>kayaking</th>\n",
              "      <td>33</td>\n",
              "      <td>1</td>\n",
              "    </tr>\n",
              "  </tbody>\n",
              "</table>\n",
              "</div>\n",
              "    <div class=\"colab-df-buttons\">\n",
              "\n",
              "  <div class=\"colab-df-container\">\n",
              "    <button class=\"colab-df-convert\" onclick=\"convertToInteractive('df-6758307f-70ae-44fb-9eb3-e432e0b5ccae')\"\n",
              "            title=\"Convert this dataframe to an interactive table.\"\n",
              "            style=\"display:none;\">\n",
              "\n",
              "  <svg xmlns=\"http://www.w3.org/2000/svg\" height=\"24px\" viewBox=\"0 -960 960 960\">\n",
              "    <path d=\"M120-120v-720h720v720H120Zm60-500h600v-160H180v160Zm220 220h160v-160H400v160Zm0 220h160v-160H400v160ZM180-400h160v-160H180v160Zm440 0h160v-160H620v160ZM180-180h160v-160H180v160Zm440 0h160v-160H620v160Z\"/>\n",
              "  </svg>\n",
              "    </button>\n",
              "\n",
              "  <style>\n",
              "    .colab-df-container {\n",
              "      display:flex;\n",
              "      gap: 12px;\n",
              "    }\n",
              "\n",
              "    .colab-df-convert {\n",
              "      background-color: #E8F0FE;\n",
              "      border: none;\n",
              "      border-radius: 50%;\n",
              "      cursor: pointer;\n",
              "      display: none;\n",
              "      fill: #1967D2;\n",
              "      height: 32px;\n",
              "      padding: 0 0 0 0;\n",
              "      width: 32px;\n",
              "    }\n",
              "\n",
              "    .colab-df-convert:hover {\n",
              "      background-color: #E2EBFA;\n",
              "      box-shadow: 0px 1px 2px rgba(60, 64, 67, 0.3), 0px 1px 3px 1px rgba(60, 64, 67, 0.15);\n",
              "      fill: #174EA6;\n",
              "    }\n",
              "\n",
              "    .colab-df-buttons div {\n",
              "      margin-bottom: 4px;\n",
              "    }\n",
              "\n",
              "    [theme=dark] .colab-df-convert {\n",
              "      background-color: #3B4455;\n",
              "      fill: #D2E3FC;\n",
              "    }\n",
              "\n",
              "    [theme=dark] .colab-df-convert:hover {\n",
              "      background-color: #434B5C;\n",
              "      box-shadow: 0px 1px 3px 1px rgba(0, 0, 0, 0.15);\n",
              "      filter: drop-shadow(0px 1px 2px rgba(0, 0, 0, 0.3));\n",
              "      fill: #FFFFFF;\n",
              "    }\n",
              "  </style>\n",
              "\n",
              "    <script>\n",
              "      const buttonEl =\n",
              "        document.querySelector('#df-6758307f-70ae-44fb-9eb3-e432e0b5ccae button.colab-df-convert');\n",
              "      buttonEl.style.display =\n",
              "        google.colab.kernel.accessAllowed ? 'block' : 'none';\n",
              "\n",
              "      async function convertToInteractive(key) {\n",
              "        const element = document.querySelector('#df-6758307f-70ae-44fb-9eb3-e432e0b5ccae');\n",
              "        const dataTable =\n",
              "          await google.colab.kernel.invokeFunction('convertToInteractive',\n",
              "                                                    [key], {});\n",
              "        if (!dataTable) return;\n",
              "\n",
              "        const docLinkHtml = 'Like what you see? Visit the ' +\n",
              "          '<a target=\"_blank\" href=https://colab.research.google.com/notebooks/data_table.ipynb>data table notebook</a>'\n",
              "          + ' to learn more about interactive tables.';\n",
              "        element.innerHTML = '';\n",
              "        dataTable['output_type'] = 'display_data';\n",
              "        await google.colab.output.renderOutput(dataTable, element);\n",
              "        const docLink = document.createElement('div');\n",
              "        docLink.innerHTML = docLinkHtml;\n",
              "        element.appendChild(docLink);\n",
              "      }\n",
              "    </script>\n",
              "  </div>\n",
              "\n",
              "\n",
              "<div id=\"df-0f01a0b6-38ac-46b7-a128-5b11546cad23\">\n",
              "  <button class=\"colab-df-quickchart\" onclick=\"quickchart('df-0f01a0b6-38ac-46b7-a128-5b11546cad23')\"\n",
              "            title=\"Suggest charts.\"\n",
              "            style=\"display:none;\">\n",
              "\n",
              "<svg xmlns=\"http://www.w3.org/2000/svg\" height=\"24px\"viewBox=\"0 0 24 24\"\n",
              "     width=\"24px\">\n",
              "    <g>\n",
              "        <path d=\"M19 3H5c-1.1 0-2 .9-2 2v14c0 1.1.9 2 2 2h14c1.1 0 2-.9 2-2V5c0-1.1-.9-2-2-2zM9 17H7v-7h2v7zm4 0h-2V7h2v10zm4 0h-2v-4h2v4z\"/>\n",
              "    </g>\n",
              "</svg>\n",
              "  </button>\n",
              "\n",
              "<style>\n",
              "  .colab-df-quickchart {\n",
              "    background-color: #E8F0FE;\n",
              "    border: none;\n",
              "    border-radius: 50%;\n",
              "    cursor: pointer;\n",
              "    display: none;\n",
              "    fill: #1967D2;\n",
              "    height: 32px;\n",
              "    padding: 0 0 0 0;\n",
              "    width: 32px;\n",
              "  }\n",
              "\n",
              "  .colab-df-quickchart:hover {\n",
              "    background-color: #E2EBFA;\n",
              "    box-shadow: 0px 1px 2px rgba(60, 64, 67, 0.3), 0px 1px 3px 1px rgba(60, 64, 67, 0.15);\n",
              "    fill: #174EA6;\n",
              "  }\n",
              "\n",
              "  [theme=dark] .colab-df-quickchart {\n",
              "    background-color: #3B4455;\n",
              "    fill: #D2E3FC;\n",
              "  }\n",
              "\n",
              "  [theme=dark] .colab-df-quickchart:hover {\n",
              "    background-color: #434B5C;\n",
              "    box-shadow: 0px 1px 3px 1px rgba(0, 0, 0, 0.15);\n",
              "    filter: drop-shadow(0px 1px 2px rgba(0, 0, 0, 0.3));\n",
              "    fill: #FFFFFF;\n",
              "  }\n",
              "</style>\n",
              "\n",
              "  <script>\n",
              "    async function quickchart(key) {\n",
              "      const charts = await google.colab.kernel.invokeFunction(\n",
              "          'suggestCharts', [key], {});\n",
              "    }\n",
              "    (() => {\n",
              "      let quickchartButtonEl =\n",
              "        document.querySelector('#df-0f01a0b6-38ac-46b7-a128-5b11546cad23 button');\n",
              "      quickchartButtonEl.style.display =\n",
              "        google.colab.kernel.accessAllowed ? 'block' : 'none';\n",
              "    })();\n",
              "  </script>\n",
              "</div>\n",
              "    </div>\n",
              "  </div>\n"
            ]
          },
          "metadata": {}
        },
        {
          "output_type": "display_data",
          "data": {
            "text/plain": [
              "<Figure size 640x480 with 1 Axes>"
            ],
            "image/png": "[encoded data removed]"
          },
          "metadata": {}
        }
      ]
    },
    {
      "cell_type": "markdown",
      "source": [
        "Answer Ad.4: There are a lot of unique activities in the data file but when we look at top 15 activities it looks surfing and swimming are far above other ones with more than 10% of share in all the cases where type of activity was known. Surfing with 18% and swimming with 15% of all considerred cases seem to be most liable acitivities for a shark attack. However there are no other circumstances or factors taken into consideration in this analysis (like geographical location or presence of sharks in the region) which are certainly of the influence on the probability of shark attack."
      ],
      "metadata": {
        "id": "gtmSi7GjedwM"
      }
    }
  ]
}