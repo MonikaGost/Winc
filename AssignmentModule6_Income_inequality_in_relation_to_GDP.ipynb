{
  "nbformat": 4,
  "nbformat_minor": 0,
  "metadata": {
    "colab": {
      "provenance": [],
      "authorship_tag": "ABX9TyP/aggowHh3+bdplGZDrZPf",
      "include_colab_link": true
    },
    "kernelspec": {
      "name": "python3",
      "display_name": "Python 3"
    },
    "language_info": {
      "name": "python"
    }
  },
  "cells": [
    {
      "cell_type": "markdown",
      "metadata": {
        "id": "view-in-github",
        "colab_type": "text"
      },
      "source": [
        "<a href=\"https://colab.research.google.com/github/MonikaGost/Winc/blob/master/AssignmentModule6_Income_inequality_in_relation_to_GDP.ipynb\" target=\"_parent\"><img src=\"https://colab.research.google.com/assets/colab-badge.svg\" alt=\"Open In Colab\"/></a>"
      ]
    },
    {
      "cell_type": "code",
      "execution_count": 1,
      "metadata": {
        "id": "VEpLAsl-O4AL"
      },
      "outputs": [],
      "source": [
        "import pandas as pd\n",
        "import numpy as np\n",
        "\n",
        "url_gdp = \"https://raw.githubusercontent.com/MonikaGost/Winc/master/Assignment%20module%206/national-gdp-constant-usd-wb.csv\"\n",
        "url_ineq = \"https://raw.githubusercontent.com/MonikaGost/Winc/master/Assignment%20module%206/inequality.csv\"\n",
        "\n",
        "df_g = pd.read_csv(url_gdp)\n",
        "df_i = pd.read_csv(url_ineq)\n",
        "\n",
        "pd.options.display.float_format = '{:.2f}'.format"
      ]
    },
    {
      "cell_type": "markdown",
      "source": [
        "Inspecting and cleaninig GDP data frame."
      ],
      "metadata": {
        "id": "uST8wJm-aSJ_"
      }
    },
    {
      "cell_type": "code",
      "source": [
        "#display(df_g)\n",
        "#df_g.shape\n",
        "df_g.drop(columns=[\"Code\"],inplace=True) # dropping unnecessary column\n",
        "df_g.rename(columns={\"GDP (constant 2015 US$)\":\"GDP\",\"Entity\":\"Country\"}, inplace=True)\n",
        "df_g.isnull().sum() # no default null values in the df\n",
        "df_g.dtypes # year is of type int64, at this moment I check first another df before i change something. But for \"Country\" I will change the type to string now.\n",
        "display(df_g)"
      ],
      "metadata": {
        "id": "ZY9xcdKFPyt1"
      },
      "execution_count": null,
      "outputs": []
    },
    {
      "cell_type": "markdown",
      "source": [
        "Some functions to check the columns"
      ],
      "metadata": {
        "id": "tSCd6ZhXP2yk"
      }
    },
    {
      "cell_type": "code",
      "source": [
        "def cast_to_type(df,column_name, maybe_type):\n",
        "  print(\"* Trying to cast to assumed type:\")\n",
        "  try:\n",
        "    df[column_name].astype(maybe_type,errors=\"ignore\")\n",
        "    print(f\"Casting to {maybe_type} was successful\\n\")\n",
        "  except ValueError as error:\n",
        "    print(f\"Could not cast to {maybe_type}: {error}\\n\")\n",
        "\n",
        "def unique_values(df,column_name):\n",
        "  unique_values = df[column_name].unique()\n",
        "  print(f'* Number of unique values in column \\'{column_name}\\': {len(unique_values)}\\n')\n",
        "  if len(unique_values)<155:\n",
        "      print(f'* List of unique values in column \\'{column_name}\\':')\n",
        "      try:\n",
        "        sorted = np.sort(unique_values)\n",
        "        print(\" - Values are sorted\")\n",
        "        display(list(sorted))\n",
        "      except:\n",
        "        print(\" ! Could not sort values !\")\n",
        "        display(list(unique_values))\n",
        "\n",
        "def defnullv(df, column_name):\n",
        "    nulls = df.loc[df[column_name].isnull()]\n",
        "    print(f\"* Number of default null values in column \\\"{column_name}\\\": {len(nulls)}\\n\")\n",
        "    if len(nulls)<=15 and len(nulls)!=0:\n",
        "      print(f\"* View on the table filtered by Null values in \\\"{column_name}\\\":\")\n",
        "      print(nulls)\n",
        "    elif len(nulls)==0:\n",
        "      print(\"There are no default missing values found in this column.\")\n",
        "\n",
        "def column_check(df,column_name,maybe_type):\n",
        "    column = df[column_name]\n",
        "    print(f\"*** Inspecting column \\'{column_name}\\' *** \\n\")\n",
        "    cast_to_type(df,column_name,maybe_type)\n",
        "    unique_values(df,column_name)\n",
        "    print(\"* Looking at frequency: \")\n",
        "    display(df[column_name].value_counts(dropna=False))\n",
        "    print(\"\\n\")\n",
        "    defnullv(df,column_name)"
      ],
      "metadata": {
        "id": "aQmIw73ucO5P"
      },
      "execution_count": 3,
      "outputs": []
    },
    {
      "cell_type": "code",
      "source": [
        "column_check(df_g,\"Country\",str)"
      ],
      "metadata": {
        "id": "RajsMaqbe5gV"
      },
      "execution_count": null,
      "outputs": []
    },
    {
      "cell_type": "code",
      "source": [
        "column_check(df_g,\"Year\",\"datetime64\")"
      ],
      "metadata": {
        "id": "rwUh_PnejiT1"
      },
      "execution_count": null,
      "outputs": []
    },
    {
      "cell_type": "markdown",
      "source": [
        "Inspecting and cleaning Gini coefficient data frame"
      ],
      "metadata": {
        "id": "z7qTfd_2f3Qd"
      }
    },
    {
      "cell_type": "code",
      "source": [
        "df_i\n",
        "# I think i need only 3 columns from this one\n",
        "dfi_2 = df_i.loc[:,\"Country\":\"Gini coefficient (before tax) (World Inequality Database)\"]\n",
        "#display(dfi_2)\n",
        "dfi_2.rename(columns={\"Gini coefficient (before tax) (World Inequality Database)\":\"Gini_co\"}, inplace=True)\n",
        "display(dfi_2)\n",
        "dfi_2.dtypes\n",
        "dfi_2.isnull().sum() # a lot of null values in Gini_coef. but for the moment i leave it like that"
      ],
      "metadata": {
        "id": "ik-4jqDaQr5N"
      },
      "execution_count": null,
      "outputs": []
    },
    {
      "cell_type": "code",
      "source": [
        "column_check(dfi_2,\"Country\",str)"
      ],
      "metadata": {
        "id": "ycjRKmLQiqIe"
      },
      "execution_count": null,
      "outputs": []
    },
    {
      "cell_type": "code",
      "source": [
        "column_check(dfi_2,\"Year\",\"datetime64\")\n",
        "# GDP dataframe data starts from 1960, so i will remove older records from this df as we can't compare these years.\n"
      ],
      "metadata": {
        "id": "pKlTCOlVlQZd"
      },
      "execution_count": null,
      "outputs": []
    },
    {
      "cell_type": "code",
      "source": [
        "dfi_3 = dfi_2.loc[dfi_2[\"Year\"] >= 1960]\n",
        "dfi_3\n",
        "column_check(dfi_3,\"Year\",\"datetime64\")"
      ],
      "metadata": {
        "id": "k--FFchxlxwF"
      },
      "execution_count": null,
      "outputs": []
    },
    {
      "cell_type": "markdown",
      "source": [
        "Merging the data frames + formatting and cleaning new data frame"
      ],
      "metadata": {
        "id": "xxwoNQ1ajF4X"
      }
    },
    {
      "cell_type": "code",
      "source": [
        "df = pd.merge(df_g, dfi_3, how='left', on=['Country', 'Year'])\n",
        "display(df)\n",
        "df.tail(30)\n"
      ],
      "metadata": {
        "id": "7HULsAPGjJBQ"
      },
      "execution_count": null,
      "outputs": []
    },
    {
      "cell_type": "code",
      "source": [
        "# Checking if merge worked:\n",
        "x = df_g[df_g[\"Country\"] == \"Afghanistan\"]\n",
        "y = dfi_3[dfi_3[\"Country\"] == \"Afghanistan\"]\n",
        "z = df[df[\"Country\"]==\"Afghanistan\"]\n",
        "\n",
        "display(x,y,z) # seems it worked well. Still we have some missing data."
      ],
      "metadata": {
        "id": "0KJGr6lFyaGo"
      },
      "execution_count": null,
      "outputs": []
    },
    {
      "cell_type": "code",
      "source": [
        "df.shape\n",
        "df.dtypes"
      ],
      "metadata": {
        "id": "6KvHeoGjGNk6"
      },
      "execution_count": null,
      "outputs": []
    },
    {
      "cell_type": "code",
      "source": [
        "#Changing \"Year\" dtype to datetime\n",
        "from pandas.core.tools.datetimes import to_datetime\n",
        "df[\"Year\"] = pd.to_datetime(df[\"Year\"], format = \"%Y\")\n",
        "\n",
        "df.dtypes"
      ],
      "metadata": {
        "id": "H-KhENfoJJ70"
      },
      "execution_count": null,
      "outputs": []
    },
    {
      "cell_type": "code",
      "source": [
        "#I set is as an index:\n",
        "df.set_index('Year',inplace = True)\n",
        "\n",
        "display(df)"
      ],
      "metadata": {
        "id": "BT0KCLWp0i0C"
      },
      "execution_count": null,
      "outputs": []
    },
    {
      "cell_type": "markdown",
      "source": [
        "Calculating correlation cbetween GDP and Gini_coefficient"
      ],
      "metadata": {
        "id": "cqm6j5D6wLxW"
      }
    },
    {
      "cell_type": "code",
      "source": [
        "# Now i would like to caluculate the correlation coefficient but I see some missing data.\n",
        "# At first i was thinking to replace them with (for example) mean or based on neighbour values but this would implicit that there is a corelation of any kind,\n",
        "#so I decided to remove missing values.\n",
        "df.dropna(inplace=True)\n",
        "df.shape # from 10669 rows 2390 are left\n",
        "display(df)\n",
        "column_check(df,\"Country\",str)"
      ],
      "metadata": {
        "id": "LIQYmkeDOygp"
      },
      "execution_count": null,
      "outputs": []
    },
    {
      "cell_type": "code",
      "source": [
        "df1= df.groupby(\"Country\")"
      ],
      "metadata": {
        "id": "1Zz-EyKWXMX6"
      },
      "execution_count": 127,
      "outputs": []
    },
    {
      "cell_type": "code",
      "source": [
        "# Calculating correlation coefficient\n",
        "df1.corr(numeric_only = True) # It looks the corelation between GDP and Gini_co varies per country, it can also have to do with number of data we have as for some\n",
        "#of the countries there are only few records.\n",
        "# But in general corelation looks to be quite strong (from realtively strong to very strong ).\n",
        "\n",
        "# I look on average:\n",
        "df1.corr(numeric_only = True).mean() # on the average we can say  tha corelation is relatively strong"
      ],
      "metadata": {
        "id": "mQkhN-fSSjH8"
      },
      "execution_count": null,
      "outputs": []
    },
    {
      "cell_type": "code",
      "source": [
        "# This seemed to me the way to calculate coefficient in this df. I did not use resample here as I wanted to look per country, i think the year does not matter here,\n",
        "# not sure if this is a proper approach.\n",
        "# I am very courious about the feedback!"
      ],
      "metadata": {
        "id": "Pza33MXRvd8o"
      },
      "execution_count": null,
      "outputs": []
    }
  ]
}