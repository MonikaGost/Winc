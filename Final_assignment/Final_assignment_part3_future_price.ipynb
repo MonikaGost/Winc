{
  "nbformat": 4,
  "nbformat_minor": 0,
  "metadata": {
    "colab": {
      "provenance": [],
      "collapsed_sections": [
        "ELOSXl1Gu9ev",
        "fY77jXYtvOBM"
      ],
      "authorship_tag": "ABX9TyMBwmAVO4I25rgHZPOfAzie",
      "include_colab_link": true
    },
    "kernelspec": {
      "name": "python3",
      "display_name": "Python 3"
    },
    "language_info": {
      "name": "python"
    }
  },
  "cells": [
    {
      "cell_type": "markdown",
      "metadata": {
        "id": "view-in-github",
        "colab_type": "text"
      },
      "source": [
        "<a href=\"https://colab.research.google.com/github/MonikaGost/Winc/blob/master/Final_assignment/Final_assignment_part3_future_price.ipynb\" target=\"_parent\"><img src=\"https://colab.research.google.com/assets/colab-badge.svg\" alt=\"Open In Colab\"/></a>"
      ]
    },
    {
      "cell_type": "markdown",
      "source": [
        "3.which non-fossil fuel energy technology will have the best price in the future?\n",
        "To be able to predict prices you'll probably need to use linear regression over the various non-fossil fuel options."
      ],
      "metadata": {
        "id": "aefvlPoAvyC8"
      }
    },
    {
      "cell_type": "code",
      "source": [
        "import pandas as pd\n",
        "import numpy as np\n",
        "import matplotlib.pyplot as plt\n",
        "from scipy import stats\n",
        "\n",
        "df = pd.read_csv(\"https://raw.githubusercontent.com/MonikaGost/Winc/master/Final_assignment/levelized-cost-of-energy.csv\")\n",
        "\n",
        "pd.options.display.float_format = '{:.2f}'.format"
      ],
      "metadata": {
        "id": "laA8hSPGu2ot"
      },
      "execution_count": 1,
      "outputs": []
    },
    {
      "cell_type": "markdown",
      "source": [
        "### **Preparing and cleaning up data frame**"
      ],
      "metadata": {
        "id": "ELOSXl1Gu9ev"
      }
    },
    {
      "cell_type": "code",
      "source": [
        "df\n",
        "df.drop(columns=\"Code\", inplace=True) # dropping unnecessary columns\n",
        "df.set_index(\"Year\", inplace=True) # setting the index\n",
        "df.columns # geting columns names, easier to change them like this"
      ],
      "metadata": {
        "id": "ur7s-Hr4u5b7"
      },
      "execution_count": null,
      "outputs": []
    },
    {
      "cell_type": "code",
      "source": [
        "#renaming columns\n",
        "df.rename(columns={'Bioenergy levelized cost of energy':'Bioenergy','Geothermal levelized cost of energy':'Geothermal','Offshore wind levelized cost of energy':'Offshore_wind',\n",
        "                   'Solar photovoltaic levelized cost of energy':'Solar_photovoltaic','Concentrated solar power levelized cost of energy':'Concentrated_solar_power',\n",
        "                   'Hydropower levelized cost of energy':'Hydropower','Onshore wind levelized cost of energy':'Onshore_wind'},inplace=True)\n",
        "\n",
        "df\n",
        "df.shape # looking on how many data we have"
      ],
      "metadata": {
        "colab": {
          "base_uri": "https://localhost:8080/"
        },
        "id": "ghkH6g9uvGes",
        "outputId": "4bd8edd3-d73b-4a2e-e379-3b4bccb73b4b"
      },
      "execution_count": 3,
      "outputs": [
        {
          "output_type": "execute_result",
          "data": {
            "text/plain": [
              "(486, 8)"
            ]
          },
          "metadata": {},
          "execution_count": 3
        }
      ]
    },
    {
      "cell_type": "code",
      "source": [
        "# I will look at the data on the Worldwide level\n",
        "LCOE = df.loc[df[\"Entity\"]=='World'].copy()\n",
        "LCOE.drop(columns=\"Entity\",inplace=True) # don't need this one\n",
        "#display(LCOE) # need to sort this by year\n",
        "LCOE.sort_values(by=\"Year\", ascending=False, inplace=True)"
      ],
      "metadata": {
        "id": "8K4-JqlJvJ6H"
      },
      "execution_count": 4,
      "outputs": []
    },
    {
      "cell_type": "code",
      "source": [
        "display(LCOE)"
      ],
      "metadata": {
        "id": "sxp1_SJ3zai3"
      },
      "execution_count": null,
      "outputs": []
    },
    {
      "cell_type": "code",
      "source": [
        "LCOE.columns"
      ],
      "metadata": {
        "id": "gCvy_fZj0CHX"
      },
      "execution_count": null,
      "outputs": []
    },
    {
      "cell_type": "markdown",
      "source": [
        "### **Runing linear regression over a data frame**"
      ],
      "metadata": {
        "id": "fY77jXYtvOBM"
      }
    },
    {
      "cell_type": "code",
      "source": [
        "def lowest_price (df):\n",
        "  fossil_fuels = ['Bioenergy', 'Geothermal', 'Offshore_wind', 'Solar_photovoltaic','Concentrated_solar_power', 'Hydropower', 'Onshore_wind']\n",
        "  price_2030 = []\n",
        "  for fuel in fossil_fuels:\n",
        "    df1 = df.loc[:,[fuel]]\n",
        "    df1.dropna(inplace=True)\n",
        "    year=df1.index\n",
        "    energy=df1[fuel]\n",
        "\n",
        "    slope, intercept, r,p,std_err = stats.linregress(year,energy)\n",
        "    print(f\"*** The correlation between years and {fuel} is:\")\n",
        "    print(r)\n",
        "\n",
        "    def myfunc(year):\n",
        "        return slope * year + intercept\n",
        "\n",
        "    mymodel = list(map(myfunc,year))\n",
        "\n",
        "    plt.scatter(year,energy)\n",
        "    plt.xlabel(\"Years\")\n",
        "    plt.ylabel(\"Average cost per unit of energy ($/kWh)\"),\n",
        "    plt.title(f\"Levelized cost of {fuel}\")\n",
        "    plt.grid()\n",
        "    plt.plot(year,mymodel)\n",
        "    plt.show()\n",
        "\n",
        "    future_price = myfunc(2030)\n",
        "\n",
        "    print(f\"*** Predicted price of {fuel} in 2030 is: {future_price} $/kWh ***\")\n",
        "    price_2030.append(future_price)\n",
        "    print('\\n')\n",
        "\n",
        "  print(\"*** Predicted prices of non-fossil energy sources in 2030 *** \\n\")\n",
        "  future_prices = pd.DataFrame({'Energy_source': fossil_fuels,\n",
        "                              '2030_price': price_2030})\n",
        "  future_prices.set_index(\"Energy_source\",inplace=True)\n",
        "  future_prices.sort_values(by=\"2030_price\", ascending=False,inplace=True)\n",
        "  display(future_prices)"
      ],
      "metadata": {
        "id": "a6lKR9KW5ZRa"
      },
      "execution_count": 7,
      "outputs": []
    },
    {
      "cell_type": "code",
      "source": [
        "lowest_price(LCOE)"
      ],
      "metadata": {
        "id": "fCEb0sgZ5eoe"
      },
      "execution_count": null,
      "outputs": []
    },
    {
      "cell_type": "markdown",
      "source": [
        "**Checking the same for year 3035**"
      ],
      "metadata": {
        "id": "Cp36Yzy61z86"
      }
    },
    {
      "cell_type": "code",
      "source": [
        "def lowest_price_2035 (df):\n",
        "  fossil_fuels = ['Bioenergy', 'Geothermal', 'Offshore_wind', 'Solar_photovoltaic','Concentrated_solar_power', 'Hydropower', 'Onshore_wind']\n",
        "  price_2035 = []\n",
        "  for fuel in fossil_fuels:\n",
        "    df1 = df.loc[:,[fuel]]\n",
        "    df1.dropna(inplace=True)\n",
        "    year=df1.index\n",
        "    energy=df1[fuel]\n",
        "\n",
        "    slope, intercept, r,p,std_err = stats.linregress(year,energy)\n",
        "    print(f\"*** The correlation between years and {fuel} is:\")\n",
        "    print(r)\n",
        "\n",
        "    def myfunc(year):\n",
        "        return slope * year + intercept\n",
        "\n",
        "    mymodel = list(map(myfunc,year))\n",
        "\n",
        "    plt.scatter(year,energy)\n",
        "    plt.xlabel(\"Years\")\n",
        "    plt.ylabel(\"Average cost per unit of energy ($/kWh)\"),\n",
        "    plt.title(f\"Levelized cost of {fuel}\")\n",
        "    plt.grid()\n",
        "    plt.plot(year,mymodel)\n",
        "    plt.show()\n",
        "\n",
        "    future_price = myfunc(2035)\n",
        "\n",
        "    print(f\"*** Predicted price of {fuel} in 2035 is: {future_price} $/kWh ***\")\n",
        "    price_2035.append(future_price)\n",
        "    print('\\n')\n",
        "\n",
        "  print(\"*** Predicted prices of non-fossil energy sources in 2030 *** \\n\")\n",
        "  future_prices = pd.DataFrame({'Energy_source': fossil_fuels,\n",
        "                              '2035_price': price_2035})\n",
        "  future_prices.set_index(\"Energy_source\",inplace=True)\n",
        "  future_prices.sort_values(by=\"2035_price\", ascending=False,inplace=True)\n",
        "  display(future_prices)"
      ],
      "metadata": {
        "id": "lsn65cOu15My"
      },
      "execution_count": 11,
      "outputs": []
    },
    {
      "cell_type": "code",
      "source": [
        "lowest_price_2035(LCOE)"
      ],
      "metadata": {
        "id": "oJjrvQUa2Suk"
      },
      "execution_count": null,
      "outputs": []
    }
  ]
}